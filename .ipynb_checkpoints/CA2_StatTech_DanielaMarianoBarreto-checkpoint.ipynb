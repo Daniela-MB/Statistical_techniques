{
 "cells": [
  {
   "cell_type": "markdown",
   "id": "f1974032",
   "metadata": {},
   "source": [
    "I imported the libraries below because they are essential to work with any code."
   ]
  },
  {
   "cell_type": "code",
   "execution_count": 1,
   "id": "3330844f",
   "metadata": {},
   "outputs": [],
   "source": [
    "import pandas as pd\n",
    "import numpy as np\n",
    "import statistics as stats\n",
    "import matplotlib.pyplot as plt\n",
    "import seaborn as sns"
   ]
  },
  {
   "cell_type": "markdown",
   "id": "d0ee1800",
   "metadata": {},
   "source": [
    "# Task 1"
   ]
  },
  {
   "cell_type": "code",
   "execution_count": 2,
   "id": "bb410da0",
   "metadata": {},
   "outputs": [
    {
     "data": {
      "text/html": [
       "<div>\n",
       "<style scoped>\n",
       "    .dataframe tbody tr th:only-of-type {\n",
       "        vertical-align: middle;\n",
       "    }\n",
       "\n",
       "    .dataframe tbody tr th {\n",
       "        vertical-align: top;\n",
       "    }\n",
       "\n",
       "    .dataframe thead th {\n",
       "        text-align: right;\n",
       "    }\n",
       "</style>\n",
       "<table border=\"1\" class=\"dataframe\">\n",
       "  <thead>\n",
       "    <tr style=\"text-align: right;\">\n",
       "      <th></th>\n",
       "      <th>exam_score</th>\n",
       "    </tr>\n",
       "  </thead>\n",
       "  <tbody>\n",
       "    <tr>\n",
       "      <th>0</th>\n",
       "      <td>74.54</td>\n",
       "    </tr>\n",
       "    <tr>\n",
       "      <th>1</th>\n",
       "      <td>66.20</td>\n",
       "    </tr>\n",
       "    <tr>\n",
       "      <th>2</th>\n",
       "      <td>86.75</td>\n",
       "    </tr>\n",
       "    <tr>\n",
       "      <th>3</th>\n",
       "      <td>70.87</td>\n",
       "    </tr>\n",
       "    <tr>\n",
       "      <th>4</th>\n",
       "      <td>80.43</td>\n",
       "    </tr>\n",
       "  </tbody>\n",
       "</table>\n",
       "</div>"
      ],
      "text/plain": [
       "   exam_score\n",
       "0       74.54\n",
       "1       66.20\n",
       "2       86.75\n",
       "3       70.87\n",
       "4       80.43"
      ]
     },
     "execution_count": 2,
     "metadata": {},
     "output_type": "execute_result"
    }
   ],
   "source": [
    "df = pd.read_csv('Q1.csv')\n",
    "df.head()"
   ]
  },
  {
   "cell_type": "markdown",
   "id": "dbab823f",
   "metadata": {},
   "source": [
    "I verified if there are any missing values and the data type. The result is that there are no missing values, and the data type is float."
   ]
  },
  {
   "cell_type": "code",
   "execution_count": 3,
   "id": "801e03f7",
   "metadata": {},
   "outputs": [
    {
     "data": {
      "text/plain": [
       "exam_score    0\n",
       "dtype: int64"
      ]
     },
     "execution_count": 3,
     "metadata": {},
     "output_type": "execute_result"
    }
   ],
   "source": [
    "df.isnull().sum()"
   ]
  },
  {
   "cell_type": "code",
   "execution_count": 4,
   "id": "13086e5a",
   "metadata": {
    "scrolled": true
   },
   "outputs": [
    {
     "name": "stdout",
     "output_type": "stream",
     "text": [
      "<class 'pandas.core.frame.DataFrame'>\n",
      "RangeIndex: 50 entries, 0 to 49\n",
      "Data columns (total 1 columns):\n",
      " #   Column      Non-Null Count  Dtype  \n",
      "---  ------      --------------  -----  \n",
      " 0   exam_score  50 non-null     float64\n",
      "dtypes: float64(1)\n",
      "memory usage: 532.0 bytes\n"
     ]
    }
   ],
   "source": [
    "df.info()"
   ]
  },
  {
   "cell_type": "markdown",
   "id": "3b08f6f4",
   "metadata": {},
   "source": [
    "### Question a)"
   ]
  },
  {
   "cell_type": "markdown",
   "id": "bdb38509",
   "metadata": {},
   "source": [
    "#### Summary Statistics\n",
    "\n",
    "I will use the function .describe() to obtain the main summary statistics, and then I will use the other functions to obtain the other values not shown below, like mode, variance, skewness and kurtosis."
   ]
  },
  {
   "cell_type": "code",
   "execution_count": 5,
   "id": "8675e68d",
   "metadata": {},
   "outputs": [
    {
     "data": {
      "text/html": [
       "<div>\n",
       "<style scoped>\n",
       "    .dataframe tbody tr th:only-of-type {\n",
       "        vertical-align: middle;\n",
       "    }\n",
       "\n",
       "    .dataframe tbody tr th {\n",
       "        vertical-align: top;\n",
       "    }\n",
       "\n",
       "    .dataframe thead th {\n",
       "        text-align: right;\n",
       "    }\n",
       "</style>\n",
       "<table border=\"1\" class=\"dataframe\">\n",
       "  <thead>\n",
       "    <tr style=\"text-align: right;\">\n",
       "      <th></th>\n",
       "      <th>exam_score</th>\n",
       "    </tr>\n",
       "  </thead>\n",
       "  <tbody>\n",
       "    <tr>\n",
       "      <th>count</th>\n",
       "      <td>50.000000</td>\n",
       "    </tr>\n",
       "    <tr>\n",
       "      <th>mean</th>\n",
       "      <td>68.735600</td>\n",
       "    </tr>\n",
       "    <tr>\n",
       "      <th>std</th>\n",
       "      <td>9.750143</td>\n",
       "    </tr>\n",
       "    <tr>\n",
       "      <th>min</th>\n",
       "      <td>48.730000</td>\n",
       "    </tr>\n",
       "    <tr>\n",
       "      <th>25%</th>\n",
       "      <td>62.040000</td>\n",
       "    </tr>\n",
       "    <tr>\n",
       "      <th>50%</th>\n",
       "      <td>68.390000</td>\n",
       "    </tr>\n",
       "    <tr>\n",
       "      <th>75%</th>\n",
       "      <td>74.630000</td>\n",
       "    </tr>\n",
       "    <tr>\n",
       "      <th>max</th>\n",
       "      <td>87.360000</td>\n",
       "    </tr>\n",
       "  </tbody>\n",
       "</table>\n",
       "</div>"
      ],
      "text/plain": [
       "       exam_score\n",
       "count   50.000000\n",
       "mean    68.735600\n",
       "std      9.750143\n",
       "min     48.730000\n",
       "25%     62.040000\n",
       "50%     68.390000\n",
       "75%     74.630000\n",
       "max     87.360000"
      ]
     },
     "execution_count": 5,
     "metadata": {},
     "output_type": "execute_result"
    }
   ],
   "source": [
    "df.describe()"
   ]
  },
  {
   "cell_type": "code",
   "execution_count": 6,
   "id": "d2f97952",
   "metadata": {},
   "outputs": [
    {
     "name": "stdout",
     "output_type": "stream",
     "text": [
      "Variance: 95.06528636734693\n",
      "Skewenss: 0.014451795738717297\n",
      "Kurtosis: -0.47331864617625374\n"
     ]
    }
   ],
   "source": [
    "print(f\"Variance: {df['exam_score'].var()}\")\n",
    "print(f\"Skewenss: {df['exam_score'].skew()}\")\n",
    "print(f\"Kurtosis: {df['exam_score'].kurtosis()}\")"
   ]
  },
  {
   "cell_type": "markdown",
   "id": "768d5d72",
   "metadata": {},
   "source": [
    "The results obtained in the summary statistics show that, on average, the students got 68.74% of the score in the exam, which is lower than the national average (70%). Still, more investigation is necessary to confirm whether it is true.\n",
    "\n",
    "The variance result indicated that the values in the dataset are more spread out than the mean. Comparing the mean with the median, we can see that the data are not too skewed, and we can confirm it by the function .skew(), which resulted in a value around zero, meaning that the distribution is approximately symmetric.\n",
    "\n",
    "The kurtosis value can complement these results to understand the distribution shape better. In this case, the distribution has a lighter tail than a normal distribution, meaning fewer outliers in this curve region than the normal one."
   ]
  },
  {
   "cell_type": "markdown",
   "id": "768a66d0",
   "metadata": {},
   "source": [
    "###### The table contains all results of the summary statistic:"
   ]
  },
  {
   "cell_type": "code",
   "execution_count": 7,
   "id": "43b456fd",
   "metadata": {},
   "outputs": [
    {
     "name": "stdout",
     "output_type": "stream",
     "text": [
      "+--------------+----------+\n",
      "| Parameters   |   Result |\n",
      "+==============+==========+\n",
      "| mean         |    68.74 |\n",
      "+--------------+----------+\n",
      "| median       |    68.39 |\n",
      "+--------------+----------+\n",
      "| Min          |    48.73 |\n",
      "+--------------+----------+\n",
      "| Max          |    87.36 |\n",
      "+--------------+----------+\n",
      "| IQR          |    12.59 |\n",
      "+--------------+----------+\n",
      "| Q1           |    62.04 |\n",
      "+--------------+----------+\n",
      "| Q3           |    74.63 |\n",
      "+--------------+----------+\n",
      "| Std Dev      |     9.75 |\n",
      "+--------------+----------+\n",
      "| Variance     |    95.06 |\n",
      "+--------------+----------+\n",
      "| Skewness     |     0.01 |\n",
      "+--------------+----------+\n",
      "| Kurtosis     |    -0.47 |\n",
      "+--------------+----------+\n"
     ]
    }
   ],
   "source": [
    "from tabulate import tabulate\n",
    "data = [\n",
    "    [\"mean\", 68.74],\n",
    "    [\"median\", 68.39],\n",
    "    [\"Min\", 48.73],\n",
    "    [\"Max\", 87.36],\n",
    "    [\"IQR\", 12.59],\n",
    "    [\"Q1\", 62.04],\n",
    "    [\"Q3\", 74.63,],\n",
    "    [\"Std Dev\", 9.75],\n",
    "    [\"Variance\", 95.06],\n",
    "    [\"Skewness\", 0.01],\n",
    "    [\"Kurtosis\", -0.47],\n",
    "]\n",
    "headers = [\"Parameters\", \"Result\"]\n",
    "print(tabulate(data, headers=headers, tablefmt=\"grid\"))"
   ]
  },
  {
   "cell_type": "markdown",
   "id": "3f45764c",
   "metadata": {},
   "source": [
    "#### Plot of summary of the dataset"
   ]
  },
  {
   "cell_type": "markdown",
   "id": "ab070f2b",
   "metadata": {},
   "source": [
    "The histogram below shows the data distribution with kernel density estimate (KDE), which provides a more detailed view of the distribution shape, helping to identify peaks and trends. For example, in this case, it seems that many students achieved scores between 60% and 75%, and around 50% seem to have overcome the national average."
   ]
  },
  {
   "cell_type": "code",
   "execution_count": 8,
   "id": "f6019362",
   "metadata": {},
   "outputs": [
    {
     "data": {
      "image/png": "[encoded data removed]",
      "text/plain": [
       "<Figure size 800x600 with 1 Axes>"
      ]
     },
     "metadata": {},
     "output_type": "display_data"
    }
   ],
   "source": [
    "plt.figure(figsize=(8, 6)) \n",
    "sns.histplot(df['exam_score'], kde=True, color='blue', bins=10)\n",
    "plt.title('Distribution of Exam Scores')\n",
    "plt.xlabel('Exam Score')\n",
    "plt.ylabel('Frequency')\n",
    "plt.show()"
   ]
  },
  {
   "cell_type": "markdown",
   "id": "b18a9e95",
   "metadata": {},
   "source": [
    "### Question b)"
   ]
  },
  {
   "cell_type": "markdown",
   "id": "ab3a845b",
   "metadata": {},
   "source": [
    "### Applying the statistic method\n",
    "\n",
    "### One-sample t-test\n",
    "I will use the one-sample t-test because the question asks to compare a sample mean and a population mean. Although the sample size is 50, greater than 30 when I was supposed to use the z-test, this would not be possible because I do not have the population standard deviation, so I chose the t-test.\n",
    "\n",
    "*1. State the hypothesis:*\n",
    "    \n",
    "- $H_0: \\mu = 70$\n",
    "\n",
    "- $H_A: \\mu < 70$\n",
    "   \n",
    "  \n",
    "*2. Find the critical value:*\n",
    "    \n",
    "This question is related to a smaller (<) comparison, which means that this distribution has a left-tail and a significance level of 𝛼= 0.05, with a degree of freedom equal to 49. When I verified the t-table (link below), I found that the critical value is -1.6766 under this circumstance.\n",
    "\n",
    "Degrees of freedom (df)\n",
    "\n",
    "df = n – 1 = 50 – 1 = 49\n",
    "\n",
    "t-table: https://www.tutorialspoint.com/statistics/t_distribution_table.htm\n",
    "  \n",
    "    \n",
    "*3. Calculate a test statistic based on the data:*\n",
    "\n",
    "I used the scipy.stats library to calculate a one-sample t-test with the 'stats.ttest_1samp' function. This function directly calculates the t-value and p-value, facilitating the comparison with the 𝛼 to find if I can reject or not $H_0$. \n",
    "\n",
    "*4. Make a decision:*\n",
    "\n",
    "As we can see, the p-value resulted in 0.3636, greater than the $\\alpha$; thus, we failed to reject $H_0$, which means we do not have enough evidence to suggest a significant difference between the means (sample_mean = 68.735 and population_mean = 70).   \n",
    "\n",
    "*5. Summerise the results:*\n",
    "\n",
    "The teacher was concerned that their student's performance may be below the national average (70%). However, with 95% confidence, there is not enough evidence to suggest a significant difference in the average exam score of the 50 students compared to the reported national average. Therefore, her concern is not justified."
   ]
  },
  {
   "cell_type": "code",
   "execution_count": 9,
   "id": "dd4908e1",
   "metadata": {},
   "outputs": [
    {
     "name": "stdout",
     "output_type": "stream",
     "text": [
      "TtestResult(statistic=array([-0.91697714]), pvalue=array([0.36364597]), df=array([49]))\n"
     ]
    }
   ],
   "source": [
    "import scipy.stats as stats\n",
    "one_samp = stats.ttest_1samp(df, popmean=70)\n",
    "print(one_samp)"
   ]
  },
  {
   "cell_type": "markdown",
   "id": "bbfb4d3d",
   "metadata": {},
   "source": [
    "### Question c)"
   ]
  },
  {
   "cell_type": "markdown",
   "id": "b553f7fc",
   "metadata": {},
   "source": [
    "#### Plot of one-sample t-test "
   ]
  },
  {
   "cell_type": "code",
   "execution_count": 10,
   "id": "6def375e",
   "metadata": {},
   "outputs": [
    {
     "data": {
      "image/png": "[encoded data removed]",
      "text/plain": [
       "<Figure size 800x600 with 1 Axes>"
      ]
     },
     "metadata": {},
     "output_type": "display_data"
    }
   ],
   "source": [
    "%matplotlib inline\n",
    "mu = 70\n",
    "plt.figure(figsize=(8, 6))\n",
    "result = plt.hist(df, bins=10, color=\"b\", edgecolor=\"k\", alpha=0.65)\n",
    "plt.axvline(df['exam_score'].mean(), color=\"k\", linestyle=\"dashed\", linewidth=2, label='Mean')\n",
    "plt.axvline(mu, color=\"red\", linestyle=\"solid\", linewidth=2, label='Mu')\n",
    "plt.legend()\n",
    "plt.xlabel('Exam Score')\n",
    "plt.ylabel('Frequency')\n",
    "plt.show()"
   ]
  },
  {
   "cell_type": "markdown",
   "id": "a7444ead",
   "metadata": {},
   "source": [
    "# Task 2"
   ]
  },
  {
   "cell_type": "markdown",
   "id": "9570497e",
   "metadata": {},
   "source": [
    "### Question a)"
   ]
  },
  {
   "cell_type": "code",
   "execution_count": 11,
   "id": "b3d51143",
   "metadata": {},
   "outputs": [
    {
     "data": {
      "text/html": [
       "<div>\n",
       "<style scoped>\n",
       "    .dataframe tbody tr th:only-of-type {\n",
       "        vertical-align: middle;\n",
       "    }\n",
       "\n",
       "    .dataframe tbody tr th {\n",
       "        vertical-align: top;\n",
       "    }\n",
       "\n",
       "    .dataframe thead th {\n",
       "        text-align: right;\n",
       "    }\n",
       "</style>\n",
       "<table border=\"1\" class=\"dataframe\">\n",
       "  <thead>\n",
       "    <tr style=\"text-align: right;\">\n",
       "      <th></th>\n",
       "      <th>carat</th>\n",
       "      <th>cut</th>\n",
       "      <th>color</th>\n",
       "      <th>clarity</th>\n",
       "      <th>depth</th>\n",
       "      <th>table</th>\n",
       "      <th>price</th>\n",
       "      <th>x</th>\n",
       "      <th>y</th>\n",
       "      <th>z</th>\n",
       "    </tr>\n",
       "  </thead>\n",
       "  <tbody>\n",
       "    <tr>\n",
       "      <th>0</th>\n",
       "      <td>0.23</td>\n",
       "      <td>Ideal</td>\n",
       "      <td>E</td>\n",
       "      <td>SI2</td>\n",
       "      <td>61.5</td>\n",
       "      <td>55.0</td>\n",
       "      <td>326</td>\n",
       "      <td>3.95</td>\n",
       "      <td>3.98</td>\n",
       "      <td>2.43</td>\n",
       "    </tr>\n",
       "    <tr>\n",
       "      <th>1</th>\n",
       "      <td>0.21</td>\n",
       "      <td>Premium</td>\n",
       "      <td>E</td>\n",
       "      <td>SI1</td>\n",
       "      <td>59.8</td>\n",
       "      <td>61.0</td>\n",
       "      <td>326</td>\n",
       "      <td>3.89</td>\n",
       "      <td>3.84</td>\n",
       "      <td>2.31</td>\n",
       "    </tr>\n",
       "    <tr>\n",
       "      <th>2</th>\n",
       "      <td>0.23</td>\n",
       "      <td>Good</td>\n",
       "      <td>E</td>\n",
       "      <td>VS1</td>\n",
       "      <td>56.9</td>\n",
       "      <td>65.0</td>\n",
       "      <td>327</td>\n",
       "      <td>4.05</td>\n",
       "      <td>4.07</td>\n",
       "      <td>2.31</td>\n",
       "    </tr>\n",
       "    <tr>\n",
       "      <th>3</th>\n",
       "      <td>0.29</td>\n",
       "      <td>Premium</td>\n",
       "      <td>I</td>\n",
       "      <td>VS2</td>\n",
       "      <td>62.4</td>\n",
       "      <td>58.0</td>\n",
       "      <td>334</td>\n",
       "      <td>4.20</td>\n",
       "      <td>4.23</td>\n",
       "      <td>2.63</td>\n",
       "    </tr>\n",
       "    <tr>\n",
       "      <th>4</th>\n",
       "      <td>0.31</td>\n",
       "      <td>Good</td>\n",
       "      <td>J</td>\n",
       "      <td>SI2</td>\n",
       "      <td>63.3</td>\n",
       "      <td>58.0</td>\n",
       "      <td>335</td>\n",
       "      <td>4.34</td>\n",
       "      <td>4.35</td>\n",
       "      <td>2.75</td>\n",
       "    </tr>\n",
       "  </tbody>\n",
       "</table>\n",
       "</div>"
      ],
      "text/plain": [
       "   carat      cut color clarity  depth  table  price     x     y     z\n",
       "0   0.23    Ideal     E     SI2   61.5   55.0    326  3.95  3.98  2.43\n",
       "1   0.21  Premium     E     SI1   59.8   61.0    326  3.89  3.84  2.31\n",
       "2   0.23     Good     E     VS1   56.9   65.0    327  4.05  4.07  2.31\n",
       "3   0.29  Premium     I     VS2   62.4   58.0    334  4.20  4.23  2.63\n",
       "4   0.31     Good     J     SI2   63.3   58.0    335  4.34  4.35  2.75"
      ]
     },
     "execution_count": 11,
     "metadata": {},
     "output_type": "execute_result"
    }
   ],
   "source": [
    "import seaborn as sns\n",
    "diamonds = sns.load_dataset('diamonds', cache=True, data_home=None)\n",
    "diamonds.head()"
   ]
  },
  {
   "cell_type": "markdown",
   "id": "02f8c15a",
   "metadata": {},
   "source": [
    "#### Creating new variable:\n",
    "The new variable will be based on the color variable from the original dataset and called \"colourless\", with 1 for categories from  'D' to 'F' and 0 for categories from 'G' to 'J'.\n",
    "\n",
    "The method '.astype()' ensures that the 'color' column will be treated as a string before using the '.str.upper()' method that converts all characters to uppercase. Then I used >= 'D' & <=' F', resulting in a boolean series which returns 'True' = 1 for those elements between 'D' to 'F'; otherwise will return 'False' = 0."
   ]
  },
  {
   "cell_type": "code",
   "execution_count": 12,
   "id": "3de4507a",
   "metadata": {
    "scrolled": true
   },
   "outputs": [
    {
     "data": {
      "text/html": [
       "<div>\n",
       "<style scoped>\n",
       "    .dataframe tbody tr th:only-of-type {\n",
       "        vertical-align: middle;\n",
       "    }\n",
       "\n",
       "    .dataframe tbody tr th {\n",
       "        vertical-align: top;\n",
       "    }\n",
       "\n",
       "    .dataframe thead th {\n",
       "        text-align: right;\n",
       "    }\n",
       "</style>\n",
       "<table border=\"1\" class=\"dataframe\">\n",
       "  <thead>\n",
       "    <tr style=\"text-align: right;\">\n",
       "      <th></th>\n",
       "      <th>carat</th>\n",
       "      <th>cut</th>\n",
       "      <th>color</th>\n",
       "      <th>clarity</th>\n",
       "      <th>depth</th>\n",
       "      <th>table</th>\n",
       "      <th>price</th>\n",
       "      <th>x</th>\n",
       "      <th>y</th>\n",
       "      <th>z</th>\n",
       "      <th>colourless</th>\n",
       "    </tr>\n",
       "  </thead>\n",
       "  <tbody>\n",
       "    <tr>\n",
       "      <th>0</th>\n",
       "      <td>0.23</td>\n",
       "      <td>Ideal</td>\n",
       "      <td>E</td>\n",
       "      <td>SI2</td>\n",
       "      <td>61.5</td>\n",
       "      <td>55.0</td>\n",
       "      <td>326</td>\n",
       "      <td>3.95</td>\n",
       "      <td>3.98</td>\n",
       "      <td>2.43</td>\n",
       "      <td>1</td>\n",
       "    </tr>\n",
       "    <tr>\n",
       "      <th>1</th>\n",
       "      <td>0.21</td>\n",
       "      <td>Premium</td>\n",
       "      <td>E</td>\n",
       "      <td>SI1</td>\n",
       "      <td>59.8</td>\n",
       "      <td>61.0</td>\n",
       "      <td>326</td>\n",
       "      <td>3.89</td>\n",
       "      <td>3.84</td>\n",
       "      <td>2.31</td>\n",
       "      <td>1</td>\n",
       "    </tr>\n",
       "    <tr>\n",
       "      <th>2</th>\n",
       "      <td>0.23</td>\n",
       "      <td>Good</td>\n",
       "      <td>E</td>\n",
       "      <td>VS1</td>\n",
       "      <td>56.9</td>\n",
       "      <td>65.0</td>\n",
       "      <td>327</td>\n",
       "      <td>4.05</td>\n",
       "      <td>4.07</td>\n",
       "      <td>2.31</td>\n",
       "      <td>1</td>\n",
       "    </tr>\n",
       "    <tr>\n",
       "      <th>3</th>\n",
       "      <td>0.29</td>\n",
       "      <td>Premium</td>\n",
       "      <td>I</td>\n",
       "      <td>VS2</td>\n",
       "      <td>62.4</td>\n",
       "      <td>58.0</td>\n",
       "      <td>334</td>\n",
       "      <td>4.20</td>\n",
       "      <td>4.23</td>\n",
       "      <td>2.63</td>\n",
       "      <td>0</td>\n",
       "    </tr>\n",
       "    <tr>\n",
       "      <th>4</th>\n",
       "      <td>0.31</td>\n",
       "      <td>Good</td>\n",
       "      <td>J</td>\n",
       "      <td>SI2</td>\n",
       "      <td>63.3</td>\n",
       "      <td>58.0</td>\n",
       "      <td>335</td>\n",
       "      <td>4.34</td>\n",
       "      <td>4.35</td>\n",
       "      <td>2.75</td>\n",
       "      <td>0</td>\n",
       "    </tr>\n",
       "  </tbody>\n",
       "</table>\n",
       "</div>"
      ],
      "text/plain": [
       "   carat      cut color clarity  depth  table  price     x     y     z  \\\n",
       "0   0.23    Ideal     E     SI2   61.5   55.0    326  3.95  3.98  2.43   \n",
       "1   0.21  Premium     E     SI1   59.8   61.0    326  3.89  3.84  2.31   \n",
       "2   0.23     Good     E     VS1   56.9   65.0    327  4.05  4.07  2.31   \n",
       "3   0.29  Premium     I     VS2   62.4   58.0    334  4.20  4.23  2.63   \n",
       "4   0.31     Good     J     SI2   63.3   58.0    335  4.34  4.35  2.75   \n",
       "\n",
       "   colourless  \n",
       "0           1  \n",
       "1           1  \n",
       "2           1  \n",
       "3           0  \n",
       "4           0  "
      ]
     },
     "execution_count": 12,
     "metadata": {},
     "output_type": "execute_result"
    }
   ],
   "source": [
    "diamonds['colourless'] = (diamonds['color'].astype(str).str.upper() >= 'D') & (diamonds['color'].astype(str).str.upper() <= 'F')\n",
    "diamonds['colourless'] = diamonds['colourless'].astype(int)\n",
    "diamonds.head()"
   ]
  },
  {
   "cell_type": "markdown",
   "id": "373d7cc5",
   "metadata": {},
   "source": [
    "### Question b)"
   ]
  },
  {
   "cell_type": "markdown",
   "id": "28e06010",
   "metadata": {},
   "source": [
    "### Applying the hypothesis test\n",
    "\n",
    "### Two-sample chi-square test\n",
    "I will use the two-sample chi-square test because it is suitable for analysing two categorical variables to know if they are similar. In this question, I need to know if the variable 'clarity' and 'colourness' are associated.\n",
    "\n",
    "*1. State the hypothesis:*\n",
    "    \n",
    "- $H_0$: There is no association between 'clarity' and 'colourness'. They are independent.\n",
    "\n",
    "- $H_A$: There is an association between 'clarity' and 'colourness'. They are dependent.\n",
    "   \n",
    "The data is collected into a contigency table that counts diamonds based on the clarity and colourness.  \n",
    "\n",
    "  \n",
    "*2. Find the critical value:*\n",
    "    \n",
    "I did not find the critical value because the p-value was calculated below, thus I only compared the 𝛼 with the p-value. In this case the p-value is less than 𝛼, therefore the we can reject $H_0$.  \n",
    "  \n",
    "    \n",
    "*3. Calculate a test statistic based on the data:*\n",
    "\n",
    "I used the contingency table with the scipy.stats library and the 'chi2_contingency' function to calculate chi-square, p-value and degrees of freedom. It resulted in:\n",
    "\n",
    "Chi-Square Statistic: 486.4730594148522\n",
    "p-value: 6.4815871244549e-101\n",
    "Degrees of Freedom: 7\n",
    "\n",
    "The Chi-Square compares the frequencies of observed and expected to assess whether there is a significant association or not. In this case, it resulted in more substantial evidence to reject $H_0$ (small p-value), meaning that there is a significant association between 'clarity' and 'colourness'\n",
    "\n",
    "*4. Make a decision:*\n",
    "\n",
    "Considering the p-value smaller than 𝛼 = 0.01 and a high Chi-Square, I opted for reject $H_0$.\n",
    "   \n",
    "\n",
    "*5. Summerise the results:*\n",
    "\n",
    "I rejected $H_0$ based on the small p-value compared with 𝛼 = 0.01 and a high Chi-Square. That means I can accept $H_A$, meaning there is a significant association between 'clarity' and 'colourless'. Therefore, 'clarity' and 'colourless' depend on each other."
   ]
  },
  {
   "cell_type": "markdown",
   "id": "98aee618",
   "metadata": {},
   "source": [
    "The contigency table:"
   ]
  },
  {
   "cell_type": "code",
   "execution_count": 13,
   "id": "54630c9d",
   "metadata": {},
   "outputs": [
    {
     "name": "stdout",
     "output_type": "stream",
     "text": [
      "Contingency Table:\n",
      "colourless     0     1\n",
      "clarity               \n",
      "IF          1174   616\n",
      "VVS1        2013  1642\n",
      "VVS2        2547  2519\n",
      "VS1         4821  3350\n",
      "VS2         5890  6368\n",
      "SI1         6425  6640\n",
      "SI2         4502  4692\n",
      "I1           454   287\n"
     ]
    }
   ],
   "source": [
    "contingency_table = pd.crosstab(diamonds['clarity'], diamonds['colourless'])\n",
    "print(\"Contingency Table:\")\n",
    "print(contingency_table)"
   ]
  },
  {
   "cell_type": "markdown",
   "id": "41a4b651",
   "metadata": {},
   "source": [
    "Perform the chi-square test and compare the p-value with 𝛼 = 0.01"
   ]
  },
  {
   "cell_type": "code",
   "execution_count": 14,
   "id": "b19c2730",
   "metadata": {
    "scrolled": false
   },
   "outputs": [
    {
     "name": "stdout",
     "output_type": "stream",
     "text": [
      "\n",
      "Chi-Square Statistic: 486.4730594148522\n",
      "p-value: 6.4815871244549e-101\n",
      "Degrees of Freedom: 7\n",
      "\n",
      "Reject the null hypothesis. There is an association between clarity and colourless.\n"
     ]
    }
   ],
   "source": [
    "from scipy.stats import chi2_contingency\n",
    "\n",
    "chi2, p, dof, _ = chi2_contingency(contingency_table)\n",
    "\n",
    "print(\"\\nChi-Square Statistic:\", chi2)\n",
    "print(\"p-value:\", p)\n",
    "print(\"Degrees of Freedom:\", dof)\n",
    "\n",
    "alpha = 0.01\n",
    "if p < alpha:\n",
    "    print(\"\\nReject the null hypothesis. There is an association between clarity and colourless.\")\n",
    "else:\n",
    "    print(\"\\nFail to reject the null hypothesis. There is no significant association between clarity and colourless.\")"
   ]
  },
  {
   "cell_type": "markdown",
   "id": "94de6668",
   "metadata": {},
   "source": [
    "### Question c)"
   ]
  },
  {
   "cell_type": "markdown",
   "id": "543cac11",
   "metadata": {},
   "source": [
    "#### Plot of association between Clarity and Colourless:\n",
    "Heatmaps are used to illustrate the relationship between two categorical variables, helping to understand how they are related in the dataset. I will use this plot to show the association between clarity and colourless that I found above. I will copy the dataset to keep information if I need to correct a mistake.\n"
   ]
  },
  {
   "cell_type": "code",
   "execution_count": 15,
   "id": "22eea6ff",
   "metadata": {
    "scrolled": true
   },
   "outputs": [
    {
     "data": {
      "text/html": [
       "<div>\n",
       "<style scoped>\n",
       "    .dataframe tbody tr th:only-of-type {\n",
       "        vertical-align: middle;\n",
       "    }\n",
       "\n",
       "    .dataframe tbody tr th {\n",
       "        vertical-align: top;\n",
       "    }\n",
       "\n",
       "    .dataframe thead th {\n",
       "        text-align: right;\n",
       "    }\n",
       "</style>\n",
       "<table border=\"1\" class=\"dataframe\">\n",
       "  <thead>\n",
       "    <tr style=\"text-align: right;\">\n",
       "      <th></th>\n",
       "      <th>carat</th>\n",
       "      <th>cut</th>\n",
       "      <th>color</th>\n",
       "      <th>clarity</th>\n",
       "      <th>depth</th>\n",
       "      <th>table</th>\n",
       "      <th>price</th>\n",
       "      <th>x</th>\n",
       "      <th>y</th>\n",
       "      <th>z</th>\n",
       "      <th>colourless</th>\n",
       "    </tr>\n",
       "  </thead>\n",
       "  <tbody>\n",
       "    <tr>\n",
       "      <th>0</th>\n",
       "      <td>0.23</td>\n",
       "      <td>Ideal</td>\n",
       "      <td>E</td>\n",
       "      <td>SI2</td>\n",
       "      <td>61.5</td>\n",
       "      <td>55.0</td>\n",
       "      <td>326</td>\n",
       "      <td>3.95</td>\n",
       "      <td>3.98</td>\n",
       "      <td>2.43</td>\n",
       "      <td>1</td>\n",
       "    </tr>\n",
       "    <tr>\n",
       "      <th>1</th>\n",
       "      <td>0.21</td>\n",
       "      <td>Premium</td>\n",
       "      <td>E</td>\n",
       "      <td>SI1</td>\n",
       "      <td>59.8</td>\n",
       "      <td>61.0</td>\n",
       "      <td>326</td>\n",
       "      <td>3.89</td>\n",
       "      <td>3.84</td>\n",
       "      <td>2.31</td>\n",
       "      <td>1</td>\n",
       "    </tr>\n",
       "    <tr>\n",
       "      <th>2</th>\n",
       "      <td>0.23</td>\n",
       "      <td>Good</td>\n",
       "      <td>E</td>\n",
       "      <td>VS1</td>\n",
       "      <td>56.9</td>\n",
       "      <td>65.0</td>\n",
       "      <td>327</td>\n",
       "      <td>4.05</td>\n",
       "      <td>4.07</td>\n",
       "      <td>2.31</td>\n",
       "      <td>1</td>\n",
       "    </tr>\n",
       "    <tr>\n",
       "      <th>3</th>\n",
       "      <td>0.29</td>\n",
       "      <td>Premium</td>\n",
       "      <td>I</td>\n",
       "      <td>VS2</td>\n",
       "      <td>62.4</td>\n",
       "      <td>58.0</td>\n",
       "      <td>334</td>\n",
       "      <td>4.20</td>\n",
       "      <td>4.23</td>\n",
       "      <td>2.63</td>\n",
       "      <td>0</td>\n",
       "    </tr>\n",
       "    <tr>\n",
       "      <th>4</th>\n",
       "      <td>0.31</td>\n",
       "      <td>Good</td>\n",
       "      <td>J</td>\n",
       "      <td>SI2</td>\n",
       "      <td>63.3</td>\n",
       "      <td>58.0</td>\n",
       "      <td>335</td>\n",
       "      <td>4.34</td>\n",
       "      <td>4.35</td>\n",
       "      <td>2.75</td>\n",
       "      <td>0</td>\n",
       "    </tr>\n",
       "  </tbody>\n",
       "</table>\n",
       "</div>"
      ],
      "text/plain": [
       "   carat      cut color clarity  depth  table  price     x     y     z  \\\n",
       "0   0.23    Ideal     E     SI2   61.5   55.0    326  3.95  3.98  2.43   \n",
       "1   0.21  Premium     E     SI1   59.8   61.0    326  3.89  3.84  2.31   \n",
       "2   0.23     Good     E     VS1   56.9   65.0    327  4.05  4.07  2.31   \n",
       "3   0.29  Premium     I     VS2   62.4   58.0    334  4.20  4.23  2.63   \n",
       "4   0.31     Good     J     SI2   63.3   58.0    335  4.34  4.35  2.75   \n",
       "\n",
       "   colourless  \n",
       "0           1  \n",
       "1           1  \n",
       "2           1  \n",
       "3           0  \n",
       "4           0  "
      ]
     },
     "execution_count": 15,
     "metadata": {},
     "output_type": "execute_result"
    }
   ],
   "source": [
    "df_plot = diamonds.copy()\n",
    "df_plot.head()"
   ]
  },
  {
   "cell_type": "markdown",
   "id": "5b030f5a",
   "metadata": {},
   "source": [
    "I will start defining the order of clarity and colourless classes. Then, I will create the contingency table again and convert it to a Numpay array. \n",
    "\n",
    "Later, I will use the Seaborn library and the heatmap function to plot the heatmap."
   ]
  },
  {
   "cell_type": "code",
   "execution_count": 16,
   "id": "432099b2",
   "metadata": {},
   "outputs": [
    {
     "data": {
      "image/png": "[encoded data removed]",
      "text/plain": [
       "<Figure size 640x480 with 2 Axes>"
      ]
     },
     "metadata": {},
     "output_type": "display_data"
    }
   ],
   "source": [
    "clarity_order = ['IF', 'VVS1', 'VVS2', 'VS1', 'VS2', 'SI1', 'SI2', 'I1']\n",
    "colourless_order = [0, 1]\n",
    "\n",
    "contingency_table = pd.crosstab(df_plot['clarity'], df_plot['colourless'])\n",
    "observed_counts = contingency_table.to_numpy()\n",
    "\n",
    "sns.heatmap(observed_counts, fmt=\"d\", cmap=\"Blues\", annot=True, xticklabels=colourless_order, yticklabels=clarity_order)\n",
    "plt.title('Association Between Clarity and Colourless Status')\n",
    "plt.show()"
   ]
  },
  {
   "cell_type": "markdown",
   "id": "df3af627",
   "metadata": {},
   "source": [
    "#### Comment about the association plot between ‘Clarity’ and ‘Colourless’: \n",
    "In this plot, we can see in the x-axis the 'colourless' categories (0 and 1) and in the y-axis the 'clarity' categories ('IF', 'VVS1', 'VVS2', 'VS1', 'VS2', 'SI1', 'SI2', 'I1'). In addition, the intensity of the blue colour in each cell represents the count of observations for a specific combination of 'clarity' and 'colourless'.\n",
    "For example, darker colours indicate higher counts that we can see in 'SI2', 'SI1', 'VS2', and 'VS1', meaning high dependencies of a particular 'colourless' category. In other words, in 'SI1', there is a strong dependence on the 'colourless' variable. "
   ]
  },
  {
   "cell_type": "markdown",
   "id": "98796977",
   "metadata": {},
   "source": [
    "### Question d)"
   ]
  },
  {
   "cell_type": "code",
   "execution_count": 17,
   "id": "b4bae2fd",
   "metadata": {},
   "outputs": [
    {
     "data": {
      "text/html": [
       "<div>\n",
       "<style scoped>\n",
       "    .dataframe tbody tr th:only-of-type {\n",
       "        vertical-align: middle;\n",
       "    }\n",
       "\n",
       "    .dataframe tbody tr th {\n",
       "        vertical-align: top;\n",
       "    }\n",
       "\n",
       "    .dataframe thead th {\n",
       "        text-align: right;\n",
       "    }\n",
       "</style>\n",
       "<table border=\"1\" class=\"dataframe\">\n",
       "  <thead>\n",
       "    <tr style=\"text-align: right;\">\n",
       "      <th></th>\n",
       "      <th>carat</th>\n",
       "      <th>cut</th>\n",
       "      <th>color</th>\n",
       "      <th>clarity</th>\n",
       "      <th>depth</th>\n",
       "      <th>table</th>\n",
       "      <th>price</th>\n",
       "      <th>x</th>\n",
       "      <th>y</th>\n",
       "      <th>z</th>\n",
       "      <th>colourless</th>\n",
       "    </tr>\n",
       "  </thead>\n",
       "  <tbody>\n",
       "    <tr>\n",
       "      <th>0</th>\n",
       "      <td>0.23</td>\n",
       "      <td>Ideal</td>\n",
       "      <td>E</td>\n",
       "      <td>SI2</td>\n",
       "      <td>61.5</td>\n",
       "      <td>55.0</td>\n",
       "      <td>326</td>\n",
       "      <td>3.95</td>\n",
       "      <td>3.98</td>\n",
       "      <td>2.43</td>\n",
       "      <td>1</td>\n",
       "    </tr>\n",
       "    <tr>\n",
       "      <th>1</th>\n",
       "      <td>0.21</td>\n",
       "      <td>Premium</td>\n",
       "      <td>E</td>\n",
       "      <td>SI1</td>\n",
       "      <td>59.8</td>\n",
       "      <td>61.0</td>\n",
       "      <td>326</td>\n",
       "      <td>3.89</td>\n",
       "      <td>3.84</td>\n",
       "      <td>2.31</td>\n",
       "      <td>1</td>\n",
       "    </tr>\n",
       "    <tr>\n",
       "      <th>2</th>\n",
       "      <td>0.23</td>\n",
       "      <td>Good</td>\n",
       "      <td>E</td>\n",
       "      <td>VS1</td>\n",
       "      <td>56.9</td>\n",
       "      <td>65.0</td>\n",
       "      <td>327</td>\n",
       "      <td>4.05</td>\n",
       "      <td>4.07</td>\n",
       "      <td>2.31</td>\n",
       "      <td>1</td>\n",
       "    </tr>\n",
       "    <tr>\n",
       "      <th>3</th>\n",
       "      <td>0.29</td>\n",
       "      <td>Premium</td>\n",
       "      <td>I</td>\n",
       "      <td>VS2</td>\n",
       "      <td>62.4</td>\n",
       "      <td>58.0</td>\n",
       "      <td>334</td>\n",
       "      <td>4.20</td>\n",
       "      <td>4.23</td>\n",
       "      <td>2.63</td>\n",
       "      <td>0</td>\n",
       "    </tr>\n",
       "    <tr>\n",
       "      <th>4</th>\n",
       "      <td>0.31</td>\n",
       "      <td>Good</td>\n",
       "      <td>J</td>\n",
       "      <td>SI2</td>\n",
       "      <td>63.3</td>\n",
       "      <td>58.0</td>\n",
       "      <td>335</td>\n",
       "      <td>4.34</td>\n",
       "      <td>4.35</td>\n",
       "      <td>2.75</td>\n",
       "      <td>0</td>\n",
       "    </tr>\n",
       "  </tbody>\n",
       "</table>\n",
       "</div>"
      ],
      "text/plain": [
       "   carat      cut color clarity  depth  table  price     x     y     z  \\\n",
       "0   0.23    Ideal     E     SI2   61.5   55.0    326  3.95  3.98  2.43   \n",
       "1   0.21  Premium     E     SI1   59.8   61.0    326  3.89  3.84  2.31   \n",
       "2   0.23     Good     E     VS1   56.9   65.0    327  4.05  4.07  2.31   \n",
       "3   0.29  Premium     I     VS2   62.4   58.0    334  4.20  4.23  2.63   \n",
       "4   0.31     Good     J     SI2   63.3   58.0    335  4.34  4.35  2.75   \n",
       "\n",
       "   colourless  \n",
       "0           1  \n",
       "1           1  \n",
       "2           1  \n",
       "3           0  \n",
       "4           0  "
      ]
     },
     "execution_count": 17,
     "metadata": {},
     "output_type": "execute_result"
    }
   ],
   "source": [
    "df_plot.head()"
   ]
  },
  {
   "cell_type": "markdown",
   "id": "12b2ba90",
   "metadata": {},
   "source": [
    "### Confidence Intervals\n",
    "I will start separating the data for colourless and non-colourless diamonds. Then, I will calculate both classes' mean, standard deviation, and sample size."
   ]
  },
  {
   "cell_type": "code",
   "execution_count": 18,
   "id": "fc3745da",
   "metadata": {},
   "outputs": [],
   "source": [
    "colorless_prices = df_plot[df_plot['colourless'] == 1]['price']\n",
    "non_colorless_prices = df_plot[df_plot['colourless'] == 0]['price']\n",
    "\n",
    "# For colourless diamonds\n",
    "mean_colorless = np.mean(colorless_prices)\n",
    "std_dev_colorless = np.std(colorless_prices, ddof=1)\n",
    "n_colorless = len(colorless_prices)\n",
    "\n",
    "# For non-colorless diamonds\n",
    "mean_non_colorless = np.mean(non_colorless_prices)\n",
    "std_dev_non_colorless = np.std(non_colorless_prices, ddof=1)\n",
    "n_non_colorless = len(non_colorless_prices)"
   ]
  },
  {
   "cell_type": "markdown",
   "id": "1c7d6295",
   "metadata": {},
   "source": [
    "I will calculate the Z-score for a 90% confidence interval as the question requires. Then, I will calculate confidence intervals (ci) using the 'stats.norm.interval' function. "
   ]
  },
  {
   "cell_type": "code",
   "execution_count": 19,
   "id": "4f822d16",
   "metadata": {},
   "outputs": [
    {
     "name": "stdout",
     "output_type": "stream",
     "text": [
      "Confidence Interval for Mean Price of Colourless diamonds: (3301.858789536041, 3373.660012639037)\n",
      "Confidence Interval for Mean Price of Non-Colourless diamonds: (4448.779481651932, 4533.680663536022)\n"
     ]
    }
   ],
   "source": [
    "z_score = stats.norm.ppf(0.95)\n",
    "\n",
    "ci_colorless = stats.norm.interval(0.9, loc=mean_colorless, scale=std_dev_colorless/np.sqrt(n_colorless))\n",
    "ci_non_colorless = stats.norm.interval(0.9, loc=mean_non_colorless, scale=std_dev_non_colorless/np.sqrt(n_non_colorless))\n",
    "\n",
    "print(\"Confidence Interval for Mean Price of Colourless diamonds:\", ci_colorless)\n",
    "print(\"Confidence Interval for Mean Price of Non-Colourless diamonds:\", ci_non_colorless)"
   ]
  },
  {
   "cell_type": "markdown",
   "id": "26c39b78",
   "metadata": {},
   "source": [
    "When we compare the manual calculation with the code result, we can verify that they are the same.\n",
    "\n",
    "Considering that the confidence intervals provide a range of values within which we can estimate the real population mean. These results mean that I am 90% confident that, for the population, the mean price of a colourless diamond is between 3301.8587 and 3373.66 dollars, while the price of non-colourless is between 4448.7794 and 4533.66."
   ]
  },
  {
   "cell_type": "markdown",
   "id": "68e16f7c",
   "metadata": {},
   "source": [
    "# Task 3"
   ]
  },
  {
   "cell_type": "markdown",
   "id": "075b4c1b",
   "metadata": {},
   "source": [
    "### Question a)"
   ]
  },
  {
   "cell_type": "markdown",
   "id": "f1f6fc84",
   "metadata": {},
   "source": [
    "I will use the Pydataset library to load the PlantGrowth dataset. I will use the .unique() function to identify the classes in the dataset."
   ]
  },
  {
   "cell_type": "code",
   "execution_count": 20,
   "id": "ca6ec4b9",
   "metadata": {
    "scrolled": true
   },
   "outputs": [
    {
     "data": {
      "text/html": [
       "<div>\n",
       "<style scoped>\n",
       "    .dataframe tbody tr th:only-of-type {\n",
       "        vertical-align: middle;\n",
       "    }\n",
       "\n",
       "    .dataframe tbody tr th {\n",
       "        vertical-align: top;\n",
       "    }\n",
       "\n",
       "    .dataframe thead th {\n",
       "        text-align: right;\n",
       "    }\n",
       "</style>\n",
       "<table border=\"1\" class=\"dataframe\">\n",
       "  <thead>\n",
       "    <tr style=\"text-align: right;\">\n",
       "      <th></th>\n",
       "      <th>weight</th>\n",
       "      <th>group</th>\n",
       "    </tr>\n",
       "  </thead>\n",
       "  <tbody>\n",
       "    <tr>\n",
       "      <th>1</th>\n",
       "      <td>4.17</td>\n",
       "      <td>ctrl</td>\n",
       "    </tr>\n",
       "    <tr>\n",
       "      <th>2</th>\n",
       "      <td>5.58</td>\n",
       "      <td>ctrl</td>\n",
       "    </tr>\n",
       "    <tr>\n",
       "      <th>3</th>\n",
       "      <td>5.18</td>\n",
       "      <td>ctrl</td>\n",
       "    </tr>\n",
       "    <tr>\n",
       "      <th>4</th>\n",
       "      <td>6.11</td>\n",
       "      <td>ctrl</td>\n",
       "    </tr>\n",
       "    <tr>\n",
       "      <th>5</th>\n",
       "      <td>4.50</td>\n",
       "      <td>ctrl</td>\n",
       "    </tr>\n",
       "  </tbody>\n",
       "</table>\n",
       "</div>"
      ],
      "text/plain": [
       "   weight group\n",
       "1    4.17  ctrl\n",
       "2    5.58  ctrl\n",
       "3    5.18  ctrl\n",
       "4    6.11  ctrl\n",
       "5    4.50  ctrl"
      ]
     },
     "execution_count": 20,
     "metadata": {},
     "output_type": "execute_result"
    }
   ],
   "source": [
    "from pydataset import data\n",
    "\n",
    "df_pg = data('PlantGrowth')\n",
    "\n",
    "df_pg.head()"
   ]
  },
  {
   "cell_type": "code",
   "execution_count": 21,
   "id": "9ff259c3",
   "metadata": {
    "scrolled": true
   },
   "outputs": [
    {
     "data": {
      "text/plain": [
       "array(['ctrl', 'trt1', 'trt2'], dtype=object)"
      ]
     },
     "execution_count": 21,
     "metadata": {},
     "output_type": "execute_result"
    }
   ],
   "source": [
    "df_pg[\"group\"].unique()"
   ]
  },
  {
   "cell_type": "markdown",
   "id": "a96c3f46",
   "metadata": {},
   "source": [
    "I verified if there are any missing values and the data type. The result is that there are no missing values, and the data type are float and object."
   ]
  },
  {
   "cell_type": "code",
   "execution_count": 22,
   "id": "95d50114",
   "metadata": {},
   "outputs": [
    {
     "data": {
      "text/plain": [
       "weight    0\n",
       "group     0\n",
       "dtype: int64"
      ]
     },
     "execution_count": 22,
     "metadata": {},
     "output_type": "execute_result"
    }
   ],
   "source": [
    "df_pg.isnull().sum()"
   ]
  },
  {
   "cell_type": "code",
   "execution_count": 23,
   "id": "107fa094",
   "metadata": {},
   "outputs": [
    {
     "name": "stdout",
     "output_type": "stream",
     "text": [
      "<class 'pandas.core.frame.DataFrame'>\n",
      "Int64Index: 30 entries, 1 to 30\n",
      "Data columns (total 2 columns):\n",
      " #   Column  Non-Null Count  Dtype  \n",
      "---  ------  --------------  -----  \n",
      " 0   weight  30 non-null     float64\n",
      " 1   group   30 non-null     object \n",
      "dtypes: float64(1), object(1)\n",
      "memory usage: 720.0+ bytes\n"
     ]
    }
   ],
   "source": [
    "df_pg.info()"
   ]
  },
  {
   "cell_type": "code",
   "execution_count": 24,
   "id": "99e50ce3",
   "metadata": {},
   "outputs": [
    {
     "data": {
      "text/plain": [
       "(30, 2)"
      ]
     },
     "execution_count": 24,
     "metadata": {},
     "output_type": "execute_result"
    }
   ],
   "source": [
    "df_pg.shape"
   ]
  },
  {
   "cell_type": "markdown",
   "id": "4d7a339c",
   "metadata": {},
   "source": [
    "#### Summary Statistics\n",
    "\n",
    "I will calculate the summary statistics for each of the three classes ('ctrl', 'trt1', 'trt2') using the groupby function. Then, I will obtain the other values, like variance, skewness, kurtosis, and Interquartile Range (IQR)."
   ]
  },
  {
   "cell_type": "code",
   "execution_count": 25,
   "id": "06fefc62",
   "metadata": {},
   "outputs": [
    {
     "name": "stdout",
     "output_type": "stream",
     "text": [
      "       count   mean       std   min     25%    50%     75%   max\n",
      "group                                                           \n",
      "ctrl    10.0  5.032  0.583091  4.17  4.5500  5.155  5.2925  6.11\n",
      "trt1    10.0  4.661  0.793676  3.59  4.2075  4.550  4.8700  6.03\n",
      "trt2    10.0  5.526  0.442573  4.92  5.2675  5.435  5.7350  6.31\n"
     ]
    }
   ],
   "source": [
    "grouped_summary = df_pg.groupby('group')['weight'].describe()\n",
    "\n",
    "print(grouped_summary)"
   ]
  },
  {
   "cell_type": "code",
   "execution_count": 26,
   "id": "b7ce32db",
   "metadata": {},
   "outputs": [
    {
     "name": "stdout",
     "output_type": "stream",
     "text": [
      "            var      skew      kurt\n",
      "group                              \n",
      "ctrl   0.339996  0.320975 -0.229125\n",
      "trt1   0.629921  0.658969 -0.202795\n",
      "trt2   0.195871  0.673216 -0.324201\n"
     ]
    }
   ],
   "source": [
    "grouped_stats = df_pg.groupby('group')['weight'].agg(['var', 'skew'])\n",
    "grouped_stats['kurt'] = df_pg.groupby('group')['weight'].apply(pd.DataFrame.kurt)\n",
    "print(grouped_stats)"
   ]
  },
  {
   "cell_type": "code",
   "execution_count": 27,
   "id": "8b9ce8bc",
   "metadata": {},
   "outputs": [
    {
     "name": "stdout",
     "output_type": "stream",
     "text": [
      "  group     IQR\n",
      "0  ctrl  0.7425\n",
      "1  trt1  0.6625\n",
      "2  trt2  0.4675\n"
     ]
    }
   ],
   "source": [
    "grouped_iqr = df_pg.groupby('group')['weight'].apply(lambda x: x.quantile(0.75) - x.quantile(0.25)).reset_index(name='IQR')\n",
    "print(grouped_iqr)"
   ]
  },
  {
   "cell_type": "markdown",
   "id": "63d746c4",
   "metadata": {},
   "source": [
    "The summary statistics results are presented in table below, showing a difference between means and medians, and suggesting a non-normal distribution. The skewness results confirmed that the groups (ctrl, trt1, trt2) do not have symmetric distributions.\n",
    "\n",
    "To better understand the distributions' shape, we can use the kurtosis values, which, in this case, have lighter tails and fewer outliers than the normal distribution, which is relatively flat, as we can confirm in figures below (histgrams). The variance is no different from the mean, suggesting that the values do not vary too much. "
   ]
  },
  {
   "cell_type": "code",
   "execution_count": 28,
   "id": "25348903",
   "metadata": {},
   "outputs": [
    {
     "name": "stdout",
     "output_type": "stream",
     "text": [
      "+--------------+---------+---------+---------+\n",
      "| Parameters   |    ctrl |    trt1 |    trt2 |\n",
      "+==============+=========+=========+=========+\n",
      "| mean         |  5.032  |  4.661  |  5.526  |\n",
      "+--------------+---------+---------+---------+\n",
      "| median       |  5.155  |  4.55   |  5.435  |\n",
      "+--------------+---------+---------+---------+\n",
      "| Min          |  4.17   |  3.59   |  4.92   |\n",
      "+--------------+---------+---------+---------+\n",
      "| Max          |  6.11   |  6.03   |  6.31   |\n",
      "+--------------+---------+---------+---------+\n",
      "| IQR          |  0.7425 |  0.6625 |  0.4675 |\n",
      "+--------------+---------+---------+---------+\n",
      "| Q1           |  4.55   |  4.2075 |  5.2675 |\n",
      "+--------------+---------+---------+---------+\n",
      "| Q3           |  5.2925 |  4.87   |  5.735  |\n",
      "+--------------+---------+---------+---------+\n",
      "| Std Dev      |  0.583  |  0.7936 |  0.4425 |\n",
      "+--------------+---------+---------+---------+\n",
      "| Variance     |  0.3399 |  0.6299 |  0.1958 |\n",
      "+--------------+---------+---------+---------+\n",
      "| Skewness     |  0.3209 |  0.6589 |  0.6732 |\n",
      "+--------------+---------+---------+---------+\n",
      "| Kurtosis     | -0.2291 | -0.2027 | -0.3242 |\n",
      "+--------------+---------+---------+---------+\n"
     ]
    }
   ],
   "source": [
    "data = [\n",
    "    [\"mean\", 5.032, 4.661, 5.526],\n",
    "    [\"median\", 5.155, 4.550, 5.435],\n",
    "    [\"Min\", 4.17, 3.59, 4.92],\n",
    "    [\"Max\", 6.11, 6.03, 6.31],\n",
    "    [\"IQR\", 0.7425, 0.6625, 0.4675],\n",
    "    [\"Q1\", 4.5500, 4.2075, 5.2675],\n",
    "    [\"Q3\", 5.2925, 4.8700, 5.7350],\n",
    "    [\"Std Dev\", 0.5830, 0.7936, 0.4425],\n",
    "    [\"Variance\", 0.3399, 0.6299, 0.1958],\n",
    "    [\"Skewness\", 0.3209, 0.6589, 0.6732],\n",
    "    [\"Kurtosis\", -0.2291, -0.2027, -0.3242],\n",
    "]\n",
    "headers = [\"Parameters\", \"ctrl\", \"trt1\", \"trt2\"]\n",
    "print(tabulate(data, headers=headers, tablefmt=\"grid\"))"
   ]
  },
  {
   "cell_type": "markdown",
   "id": "dbdbb56b",
   "metadata": {},
   "source": [
    "#### Plot of summary of the dataset"
   ]
  },
  {
   "cell_type": "markdown",
   "id": "1a19a78f",
   "metadata": {},
   "source": [
    "The histograms below represent the results obtained in the summary statistic, in which we can see the asymmetric and flat distribution for all treatments and controls. The kernel density estimate (KDE) curve provides a more detailed view of the distribution shape, helping to identify peaks and trends; for example, the treatment seems to have a similar distribution, but the results are different, but again, it is necessary to perform statistic test to verify that."
   ]
  },
  {
   "cell_type": "code",
   "execution_count": 29,
   "id": "a4f05f51",
   "metadata": {},
   "outputs": [
    {
     "data": {
      "image/png": "[encoded data removed]",
      "text/plain": [
       "<Figure size 600x400 with 1 Axes>"
      ]
     },
     "metadata": {},
     "output_type": "display_data"
    },
    {
     "data": {
      "image/png": "[encoded data removed]",
      "text/plain": [
       "<Figure size 600x400 with 1 Axes>"
      ]
     },
     "metadata": {},
     "output_type": "display_data"
    },
    {
     "data": {
      "image/png": "[encoded data removed]",
      "text/plain": [
       "<Figure size 600x400 with 1 Axes>"
      ]
     },
     "metadata": {},
     "output_type": "display_data"
    }
   ],
   "source": [
    "# Control - ctrl\n",
    "selected_group = 'ctrl'\n",
    "selected_group_data = df_pg[df_pg['group'] == selected_group]\n",
    "plt.figure(figsize=(6, 4))\n",
    "sns.histplot(data=selected_group_data, x='weight', kde=True, color='darkgreen', bins=10)\n",
    "plt.title(f'Distribution of Weight for Group - {selected_group}')\n",
    "plt.xlabel('Weight')\n",
    "plt.ylabel('Frequency')\n",
    "plt.show()\n",
    "\n",
    "# Treatment 1 - trt1\n",
    "selected_group = 'trt1'\n",
    "selected_group_data = df_pg[df_pg['group'] == selected_group]\n",
    "plt.figure(figsize=(6, 4))\n",
    "sns.histplot(data=selected_group_data, x='weight', kde=True, color='green', bins=10)\n",
    "plt.title(f'Distribution of Weight for Group - {selected_group}')\n",
    "plt.xlabel('Weight')\n",
    "plt.ylabel('Frequency')\n",
    "plt.show()\n",
    "\n",
    "# Treatment 2 - trt2\n",
    "selected_group = 'trt2'\n",
    "selected_group_data = df_pg[df_pg['group'] == selected_group]\n",
    "plt.figure(figsize=(6, 4))\n",
    "sns.histplot(data=selected_group_data, x='weight', kde=True, color='lightgreen', bins=10)\n",
    "plt.title(f'Distribution of Weight for Group - {selected_group}')\n",
    "plt.xlabel('Weight')\n",
    "plt.ylabel('Frequency')\n",
    "plt.show()"
   ]
  },
  {
   "cell_type": "markdown",
   "id": "83a75f9a",
   "metadata": {},
   "source": [
    "With a superficial look at figure below, I can suppose that treatment 2 resulted in greater growth than treatment 1 and control, which seem equal. However, a statistical test will be necessary to verify it."
   ]
  },
  {
   "cell_type": "code",
   "execution_count": 30,
   "id": "d9866244",
   "metadata": {},
   "outputs": [
    {
     "data": {
      "image/png": "[encoded data removed]",
      "text/plain": [
       "<Figure size 640x480 with 1 Axes>"
      ]
     },
     "metadata": {},
     "output_type": "display_data"
    }
   ],
   "source": [
    "materials = ['ctrl', 'trt1', 'trt2']\n",
    "means = [5.032, 4.661, 5.526]\n",
    "std_devs = [0.583, 0.7936, 0.4425]\n",
    "\n",
    "fig, ax = plt.subplots()\n",
    "ax.bar(materials, means, yerr=std_devs, capsize=5, color=['lightblue', 'lightgreen', 'lightpink'])\n",
    "ax.set_ylabel('Weight')\n",
    "ax.set_title('Mean and standard deviation of plant growth')\n",
    "plt.show()"
   ]
  },
  {
   "cell_type": "markdown",
   "id": "655d80a9",
   "metadata": {},
   "source": [
    "### Question b)"
   ]
  },
  {
   "cell_type": "markdown",
   "id": "cae9186a",
   "metadata": {},
   "source": [
    "### Applying the hypothesis test\n",
    "### Non-parametric test in K-sample\n",
    "\n",
    "Considering the summary statistics results, I found that the data are not normally distributed. Because of this, I will use a non-parametric test because it generates more reliable results in this case than in comparison with a parametric test. In this case, I will apply the Kruskal-Wallis test because it is appropriate when handling a non-normal distribution and small sample size (Devore, 2012, p.645), conditions that I encountered in this dataset.\n",
    "\n",
    "As the data are skewed, the use of the median is more robust than the median; because of this, I will compare the medians and the Kruskal-Wallis,  already considers the medians in its calculations (docs.scipy.org, n.d.). \n",
    " \n",
    "\n",
    "*1. State the hypothesis:*\n",
    "    \n",
    "- $H_0$: There is no difference between the means.\n",
    "\n",
    "- $H_A$: There is difference between the means. \n",
    "   \n",
    "  \n",
    "*2. Find the critical value:*\n",
    "    \n",
    "I did not find the critical value because the p-value was calculated below. After all, I will directly compare the 𝛼 = 0.05 with the p-value (0.01842). In this case, the p-value is less than 𝛼. Therefore the, we can reject $H_0$.  \n",
    "  \n",
    "    \n",
    "*3. Calculate a test statistic based on the data:*\n",
    "\n",
    "I used the scipy.stats library and Kruskal function to calculate the statistic test and the p-value. It resulted in:\n",
    "\n",
    "H-Statistic: 7.988228749443715\n",
    "P-Value: 0.01842375573147196\n",
    "\n",
    "These resulted in enough evidence to reject $H_0$ (p-value < 𝛼), meaning that there is a significant difference between the means.\n",
    "\n",
    "*4. Make a decision:*\n",
    "\n",
    "Considering the p-value smaller than 𝛼 = 0.05, I can reject $H_0$.\n",
    "   \n",
    "\n",
    "*5. Summerise the results:*\n",
    "\n",
    "I rejected $H_0$ based on the small p-value compared with 𝛼 = 0.05. That means I can accept $H_A$, meaning there is evidence to suggest differences among the groups, and the differences are statistically significant at a significance level of 0.05."
   ]
  },
  {
   "cell_type": "code",
   "execution_count": 31,
   "id": "732965f3",
   "metadata": {},
   "outputs": [
    {
     "name": "stdout",
     "output_type": "stream",
     "text": [
      "H-Statistic: 7.988228749443715\n",
      "P-Value: 0.018423755731471966\n"
     ]
    }
   ],
   "source": [
    "from scipy.stats import kruskal\n",
    "ctrl = df_pg[df_pg['group'] == 'ctrl']['weight']\n",
    "trt1 = df_pg[df_pg['group'] == 'trt1']['weight']\n",
    "trt2 = df_pg[df_pg['group'] == 'trt2']['weight']\n",
    "\n",
    "h_statistic, p_value = kruskal(ctrl, trt1, trt2)\n",
    "\n",
    "print(\"H-Statistic:\", h_statistic)\n",
    "print(\"P-Value:\", p_value)"
   ]
  },
  {
   "cell_type": "markdown",
   "id": "a25b3d97",
   "metadata": {},
   "source": [
    "### Question c)"
   ]
  },
  {
   "cell_type": "markdown",
   "id": "f404f3b8",
   "metadata": {},
   "source": [
    "As we can see above, the p-value is less than 𝛼; thus, I can reject the null hypothesis, suggesting a significant difference among at least one pair of treatments and control. To find these differences, I will perform Dunn's test, a non-parametric method for multiple comparisons usually used with the Kruskal-Wallis test (Terpilowski, 2019)."
   ]
  },
  {
   "cell_type": "code",
   "execution_count": 32,
   "id": "90f7b978",
   "metadata": {},
   "outputs": [
    {
     "name": "stdout",
     "output_type": "stream",
     "text": [
      "\n",
      "Post-hoc Dunn's test:\n",
      "          1         2         3\n",
      "1  1.000000  0.263684  0.091164\n",
      "2  0.263684  1.000000  0.005000\n",
      "3  0.091164  0.005000  1.000000\n"
     ]
    }
   ],
   "source": [
    "import scikit_posthocs as sp\n",
    "\n",
    "posthoc_dunn = sp.posthoc_dunn([ctrl, trt1, trt2])\n",
    "\n",
    "print(\"\\nPost-hoc Dunn's test:\")\n",
    "print(posthoc_dunn)"
   ]
  },
  {
   "cell_type": "markdown",
   "id": "60263f17",
   "metadata": {},
   "source": [
    "After performing the Dunn's test to identify which specific pairs of treatments are different, it generated the table above with p-values for each combination.\n",
    "\n",
    "I found that treatments 1 and 2 are significantly different, considering the p-values less than 0.05, while treatment 1 is equal to the control group. With 95% confidence, treatment 2 presented significant growth compared to the control and treatment 1."
   ]
  },
  {
   "cell_type": "markdown",
   "id": "3d97feba",
   "metadata": {},
   "source": [
    "# Task 4"
   ]
  },
  {
   "cell_type": "markdown",
   "id": "a88bc800",
   "metadata": {},
   "source": [
    "### Question a)"
   ]
  },
  {
   "cell_type": "markdown",
   "id": "2a50289f",
   "metadata": {},
   "source": [
    "I will use the Pydataset library to load the Trees dataset. I will verify if there are any missing values and the data type. If so, I will clean the data."
   ]
  },
  {
   "cell_type": "code",
   "execution_count": 33,
   "id": "e583280e",
   "metadata": {},
   "outputs": [
    {
     "data": {
      "text/html": [
       "<div>\n",
       "<style scoped>\n",
       "    .dataframe tbody tr th:only-of-type {\n",
       "        vertical-align: middle;\n",
       "    }\n",
       "\n",
       "    .dataframe tbody tr th {\n",
       "        vertical-align: top;\n",
       "    }\n",
       "\n",
       "    .dataframe thead th {\n",
       "        text-align: right;\n",
       "    }\n",
       "</style>\n",
       "<table border=\"1\" class=\"dataframe\">\n",
       "  <thead>\n",
       "    <tr style=\"text-align: right;\">\n",
       "      <th></th>\n",
       "      <th>Girth</th>\n",
       "      <th>Height</th>\n",
       "      <th>Volume</th>\n",
       "    </tr>\n",
       "  </thead>\n",
       "  <tbody>\n",
       "    <tr>\n",
       "      <th>1</th>\n",
       "      <td>8.3</td>\n",
       "      <td>70</td>\n",
       "      <td>10.3</td>\n",
       "    </tr>\n",
       "    <tr>\n",
       "      <th>2</th>\n",
       "      <td>8.6</td>\n",
       "      <td>65</td>\n",
       "      <td>10.3</td>\n",
       "    </tr>\n",
       "    <tr>\n",
       "      <th>3</th>\n",
       "      <td>8.8</td>\n",
       "      <td>63</td>\n",
       "      <td>10.2</td>\n",
       "    </tr>\n",
       "    <tr>\n",
       "      <th>4</th>\n",
       "      <td>10.5</td>\n",
       "      <td>72</td>\n",
       "      <td>16.4</td>\n",
       "    </tr>\n",
       "    <tr>\n",
       "      <th>5</th>\n",
       "      <td>10.7</td>\n",
       "      <td>81</td>\n",
       "      <td>18.8</td>\n",
       "    </tr>\n",
       "  </tbody>\n",
       "</table>\n",
       "</div>"
      ],
      "text/plain": [
       "   Girth  Height  Volume\n",
       "1    8.3      70    10.3\n",
       "2    8.6      65    10.3\n",
       "3    8.8      63    10.2\n",
       "4   10.5      72    16.4\n",
       "5   10.7      81    18.8"
      ]
     },
     "execution_count": 33,
     "metadata": {},
     "output_type": "execute_result"
    }
   ],
   "source": [
    "from pydataset import data\n",
    "\n",
    "df_trees = data('trees')\n",
    "\n",
    "df_trees.head()"
   ]
  },
  {
   "cell_type": "code",
   "execution_count": 34,
   "id": "c96335fa",
   "metadata": {},
   "outputs": [
    {
     "data": {
      "text/plain": [
       "Girth     0\n",
       "Height    0\n",
       "Volume    0\n",
       "dtype: int64"
      ]
     },
     "execution_count": 34,
     "metadata": {},
     "output_type": "execute_result"
    }
   ],
   "source": [
    "df_trees.isnull().sum()"
   ]
  },
  {
   "cell_type": "code",
   "execution_count": 35,
   "id": "15667404",
   "metadata": {},
   "outputs": [
    {
     "name": "stdout",
     "output_type": "stream",
     "text": [
      "<class 'pandas.core.frame.DataFrame'>\n",
      "Int64Index: 31 entries, 1 to 31\n",
      "Data columns (total 3 columns):\n",
      " #   Column  Non-Null Count  Dtype  \n",
      "---  ------  --------------  -----  \n",
      " 0   Girth   31 non-null     float64\n",
      " 1   Height  31 non-null     int64  \n",
      " 2   Volume  31 non-null     float64\n",
      "dtypes: float64(2), int64(1)\n",
      "memory usage: 992.0 bytes\n"
     ]
    }
   ],
   "source": [
    "df_trees.info()"
   ]
  },
  {
   "cell_type": "code",
   "execution_count": 36,
   "id": "a04add5f",
   "metadata": {},
   "outputs": [
    {
     "data": {
      "text/plain": [
       "(31, 3)"
      ]
     },
     "execution_count": 36,
     "metadata": {},
     "output_type": "execute_result"
    }
   ],
   "source": [
    "df_trees.shape"
   ]
  },
  {
   "cell_type": "markdown",
   "id": "9c390d61",
   "metadata": {},
   "source": [
    "The result is that there are no missing values, and the data type are float and integer."
   ]
  },
  {
   "cell_type": "markdown",
   "id": "d1e90c45",
   "metadata": {},
   "source": [
    "#### Correlation Analysis\n",
    "\n",
    "Correlation analysis involves calculating correlation coefficients and quantifying the strength and direction of a linear relationship between two variables. The Pearson sample correlation coefficient is a common measure of the strength of the linear relationship (Devore, 2012, p.201) and will be used in this analysis."
   ]
  },
  {
   "cell_type": "markdown",
   "id": "0340b967",
   "metadata": {},
   "source": [
    "I will use the pearsonr function from the scipy.stats library to obtain the correlation coefficients for each pair:\n",
    "\n",
    "- Girth and Height\n",
    "\n",
    "- Girth and Volume\n",
    "\n",
    "- Height and Volume\n",
    "\n",
    "I will also calculate the p-value for each pair shown above to perform the hypothesis test considering a confidence interval of 95% and a significance level 𝛼 = 0.05 that I can estimate the real population mean.\n",
    "\n",
    "*State the hypothesis:*\n",
    "    \n",
    "- $H_0$: There is no correlation between the variables.\n",
    "\n",
    "- $H_A$: There is a correlation between the variables.\n",
    "\n",
    "*Compare the p-value with 𝛼:* I will directly compare the 𝛼 = 0.05 with the p-value of each pair:\n",
    "\n",
    "   - If p-value < Reject $H_0$ --> Therefore, there is a correlation between variables.\n",
    "\n",
    "   - If p-value > Do not Reject $H_0$ --> therefore, There is no correlation between the variables."
   ]
  },
  {
   "cell_type": "code",
   "execution_count": 37,
   "id": "eabbd345",
   "metadata": {},
   "outputs": [
    {
     "name": "stdout",
     "output_type": "stream",
     "text": [
      "Pearson correlation coefficient between Girth and Height: 0.5193\n",
      "P-value: 0.0028\n",
      "Pearson correlation coefficient between Girth and Volume: 0.9671\n",
      "P-value: 0.0000\n",
      "Pearson correlation coefficient between Height and Volume: 0.5982\n",
      "P-value: 0.0004\n"
     ]
    }
   ],
   "source": [
    "from scipy.stats import pearsonr\n",
    "\n",
    "# Correlation between Girth and Height\n",
    "correlation_coefficients, p_values = pearsonr(df_trees['Girth'], df_trees['Height'])\n",
    "print(f\"Pearson correlation coefficient between Girth and Height: {correlation_coefficients:.4f}\")\n",
    "print(f\"P-value: {p_values:.4f}\")\n",
    "# Correlation between Girth and Volume\n",
    "correlation_coefficients, p_values = pearsonr(df_trees['Girth'], df_trees['Volume'])\n",
    "print(f\"Pearson correlation coefficient between Girth and Volume: {correlation_coefficients:.4f}\")\n",
    "print(f\"P-value: {p_values:.4f}\")\n",
    "# Correlation between Height and Volume\n",
    "correlation_coefficients, p_values = pearsonr(df_trees['Height'], df_trees['Volume'])\n",
    "print(f\"Pearson correlation coefficient between Height and Volume: {correlation_coefficients:.4f}\")\n",
    "print(f\"P-value: {p_values:.4f}\")"
   ]
  },
  {
   "cell_type": "markdown",
   "id": "c2bc990d",
   "metadata": {},
   "source": [
    "The results presented above mean that I am 95% confidence, for the population, that 'Girth and Height' (r = 0.5193) and 'Height and Volume' (r = 0.5982) have a moderate linear positive correlation, and for both pairs, the p-value is less than 𝛼; therefore, there is a correlation between variables. These results suggest that in both pairs, on average, as Girth increases, Height increases, and for the second pair, when height increases, Volume increases; however, this correlation is not extremely strong, indicating that other factors may also influence tree height and Volume.\n",
    "\n",
    "The pair 'Girth and Volume' (r = 0.9671) has a very strong linear positive correlation with high statistical significance because the p-value is much less than 𝛼. This suggests that as girth increases, volumes also increase and are associated with a strong correlation. Therefore, Girth can be a good predictor of timber Volume in these black cherry trees."
   ]
  },
  {
   "cell_type": "markdown",
   "id": "39bf9438",
   "metadata": {},
   "source": [
    "The charts below (pair plot and heatmap) show the relation between the variables and their strength and direction of the relationship."
   ]
  },
  {
   "cell_type": "code",
   "execution_count": 38,
   "id": "247f3f2f",
   "metadata": {
    "scrolled": true
   },
   "outputs": [
    {
     "data": {
      "image/png": "[encoded data removed]",
      "text/plain": [
       "<Figure size 750x750 with 12 Axes>"
      ]
     },
     "metadata": {},
     "output_type": "display_data"
    }
   ],
   "source": [
    "sns.pairplot(df_trees)\n",
    "plt.show()"
   ]
  },
  {
   "cell_type": "code",
   "execution_count": 39,
   "id": "cd853545",
   "metadata": {},
   "outputs": [
    {
     "data": {
      "text/html": [
       "<div>\n",
       "<style scoped>\n",
       "    .dataframe tbody tr th:only-of-type {\n",
       "        vertical-align: middle;\n",
       "    }\n",
       "\n",
       "    .dataframe tbody tr th {\n",
       "        vertical-align: top;\n",
       "    }\n",
       "\n",
       "    .dataframe thead th {\n",
       "        text-align: right;\n",
       "    }\n",
       "</style>\n",
       "<table border=\"1\" class=\"dataframe\">\n",
       "  <thead>\n",
       "    <tr style=\"text-align: right;\">\n",
       "      <th></th>\n",
       "      <th>Girth</th>\n",
       "      <th>Height</th>\n",
       "      <th>Volume</th>\n",
       "    </tr>\n",
       "  </thead>\n",
       "  <tbody>\n",
       "    <tr>\n",
       "      <th>Girth</th>\n",
       "      <td>1.000000</td>\n",
       "      <td>0.51928</td>\n",
       "      <td>0.967119</td>\n",
       "    </tr>\n",
       "    <tr>\n",
       "      <th>Height</th>\n",
       "      <td>0.519280</td>\n",
       "      <td>1.00000</td>\n",
       "      <td>0.598250</td>\n",
       "    </tr>\n",
       "    <tr>\n",
       "      <th>Volume</th>\n",
       "      <td>0.967119</td>\n",
       "      <td>0.59825</td>\n",
       "      <td>1.000000</td>\n",
       "    </tr>\n",
       "  </tbody>\n",
       "</table>\n",
       "</div>"
      ],
      "text/plain": [
       "           Girth   Height    Volume\n",
       "Girth   1.000000  0.51928  0.967119\n",
       "Height  0.519280  1.00000  0.598250\n",
       "Volume  0.967119  0.59825  1.000000"
      ]
     },
     "execution_count": 39,
     "metadata": {},
     "output_type": "execute_result"
    },
    {
     "data": {
      "image/png": "[encoded data removed]",
      "text/plain": [
       "<Figure size 1000x600 with 2 Axes>"
      ]
     },
     "metadata": {},
     "output_type": "display_data"
    }
   ],
   "source": [
    "plt.figure(figsize=(10,6)) \n",
    "c= df_trees.corr() \n",
    "sns.heatmap(c,cmap=\"viridis\",annot=True) \n",
    "c"
   ]
  },
  {
   "cell_type": "markdown",
   "id": "efcaf28b",
   "metadata": {},
   "source": [
    "### Question b)"
   ]
  },
  {
   "cell_type": "markdown",
   "id": "de9ce290",
   "metadata": {},
   "source": [
    "Regression analysis is part of statistics that investigates the relationship between independent and dependent variables (Devore, 2012, p.469). In this case, I will estimate the volume of timber (dependent variable) based on girth, height, or both.\n",
    "\n",
    "Linear equation:\n",
    "\n",
    "Y = m.X + c\n",
    "\n",
    "Where,\n",
    "\n",
    "Y: dependent variable (target).\n",
    "\n",
    "m: slope (coefficient), is the rate of change.\n",
    "\n",
    "X: independent variable.\n",
    "\n",
    "c: intercept, the point where the line intersects the y-axis.\n",
    "\n",
    "I will use the 'statsmodels' library to access the 'sm.OLS' method to estimate the parameters of the linear regression, and I will use the 'sm.add_constant' to add the intercept to the independent variable ('Girth'). The .summary method will print all the summary statistics, mainly the R-squared value, p-value and coefficients.\n",
    "\n",
    "The higher the R-square value, the more successful the linear regression model in explaining y variation (Devore, 2012, p.485). Hence, I will analyse these values for each model to identify which one performed well. Secondly, I will check the p-value for the coefficients to verify if the results are statistically significant. "
   ]
  },
  {
   "cell_type": "code",
   "execution_count": 40,
   "id": "ec847138",
   "metadata": {},
   "outputs": [],
   "source": [
    "import statsmodels.api as sm"
   ]
  },
  {
   "cell_type": "markdown",
   "id": "65570621",
   "metadata": {},
   "source": [
    "##### Model 1: Volume ~ Girth"
   ]
  },
  {
   "cell_type": "code",
   "execution_count": 41,
   "id": "6a1ef281",
   "metadata": {},
   "outputs": [
    {
     "name": "stdout",
     "output_type": "stream",
     "text": [
      "                            OLS Regression Results                            \n",
      "==============================================================================\n",
      "Dep. Variable:                 Volume   R-squared:                       0.935\n",
      "Model:                            OLS   Adj. R-squared:                  0.933\n",
      "Method:                 Least Squares   F-statistic:                     419.4\n",
      "Date:                Mon, 18 Dec 2023   Prob (F-statistic):           8.64e-19\n",
      "Time:                        21:23:31   Log-Likelihood:                -87.822\n",
      "No. Observations:                  31   AIC:                             179.6\n",
      "Df Residuals:                      29   BIC:                             182.5\n",
      "Df Model:                           1                                         \n",
      "Covariance Type:            nonrobust                                         \n",
      "==============================================================================\n",
      "                 coef    std err          t      P>|t|      [0.025      0.975]\n",
      "------------------------------------------------------------------------------\n",
      "const        -36.9435      3.365    -10.978      0.000     -43.826     -30.061\n",
      "Girth          5.0659      0.247     20.478      0.000       4.560       5.572\n",
      "==============================================================================\n",
      "Omnibus:                        0.169   Durbin-Watson:                   1.437\n",
      "Prob(Omnibus):                  0.919   Jarque-Bera (JB):                0.382\n",
      "Skew:                           0.028   Prob(JB):                        0.826\n",
      "Kurtosis:                       2.459   Cond. No.                         60.3\n",
      "==============================================================================\n",
      "\n",
      "Notes:\n",
      "[1] Standard Errors assume that the covariance matrix of the errors is correctly specified.\n"
     ]
    }
   ],
   "source": [
    "model_girth = sm.OLS(df_trees['Volume'], sm.add_constant(df_trees['Girth'])).fit()\n",
    "print(model_girth.summary())"
   ]
  },
  {
   "cell_type": "markdown",
   "id": "90ebd36e",
   "metadata": {},
   "source": [
    "##### Model 2: Volume ~ Height"
   ]
  },
  {
   "cell_type": "code",
   "execution_count": 42,
   "id": "2e39cf67",
   "metadata": {},
   "outputs": [
    {
     "name": "stdout",
     "output_type": "stream",
     "text": [
      "                            OLS Regression Results                            \n",
      "==============================================================================\n",
      "Dep. Variable:                 Volume   R-squared:                       0.358\n",
      "Model:                            OLS   Adj. R-squared:                  0.336\n",
      "Method:                 Least Squares   F-statistic:                     16.16\n",
      "Date:                Mon, 18 Dec 2023   Prob (F-statistic):           0.000378\n",
      "Time:                        21:23:31   Log-Likelihood:                -123.40\n",
      "No. Observations:                  31   AIC:                             250.8\n",
      "Df Residuals:                      29   BIC:                             253.7\n",
      "Df Model:                           1                                         \n",
      "Covariance Type:            nonrobust                                         \n",
      "==============================================================================\n",
      "                 coef    std err          t      P>|t|      [0.025      0.975]\n",
      "------------------------------------------------------------------------------\n",
      "const        -87.1236     29.273     -2.976      0.006    -146.994     -27.253\n",
      "Height         1.5433      0.384      4.021      0.000       0.758       2.328\n",
      "==============================================================================\n",
      "Omnibus:                        1.994   Durbin-Watson:                   0.501\n",
      "Prob(Omnibus):                  0.369   Jarque-Bera (JB):                1.624\n",
      "Skew:                           0.406   Prob(JB):                        0.444\n",
      "Kurtosis:                       2.227   Cond. No.                         928.\n",
      "==============================================================================\n",
      "\n",
      "Notes:\n",
      "[1] Standard Errors assume that the covariance matrix of the errors is correctly specified.\n"
     ]
    }
   ],
   "source": [
    "model_height = sm.OLS(df_trees['Volume'], sm.add_constant(df_trees['Height'])).fit()\n",
    "print(model_height.summary())"
   ]
  },
  {
   "cell_type": "markdown",
   "id": "f6cf5284",
   "metadata": {},
   "source": [
    "##### Model 3: Volume ~ Girth + Height"
   ]
  },
  {
   "cell_type": "code",
   "execution_count": 43,
   "id": "8061bf4a",
   "metadata": {},
   "outputs": [
    {
     "name": "stdout",
     "output_type": "stream",
     "text": [
      "                            OLS Regression Results                            \n",
      "==============================================================================\n",
      "Dep. Variable:                 Volume   R-squared:                       0.948\n",
      "Model:                            OLS   Adj. R-squared:                  0.944\n",
      "Method:                 Least Squares   F-statistic:                     255.0\n",
      "Date:                Mon, 18 Dec 2023   Prob (F-statistic):           1.07e-18\n",
      "Time:                        21:23:32   Log-Likelihood:                -84.455\n",
      "No. Observations:                  31   AIC:                             174.9\n",
      "Df Residuals:                      28   BIC:                             179.2\n",
      "Df Model:                           2                                         \n",
      "Covariance Type:            nonrobust                                         \n",
      "==============================================================================\n",
      "                 coef    std err          t      P>|t|      [0.025      0.975]\n",
      "------------------------------------------------------------------------------\n",
      "const        -57.9877      8.638     -6.713      0.000     -75.682     -40.293\n",
      "Girth          4.7082      0.264     17.816      0.000       4.167       5.249\n",
      "Height         0.3393      0.130      2.607      0.014       0.073       0.606\n",
      "==============================================================================\n",
      "Omnibus:                        0.923   Durbin-Watson:                   1.266\n",
      "Prob(Omnibus):                  0.630   Jarque-Bera (JB):                0.950\n",
      "Skew:                           0.310   Prob(JB):                        0.622\n",
      "Kurtosis:                       2.408   Cond. No.                         959.\n",
      "==============================================================================\n",
      "\n",
      "Notes:\n",
      "[1] Standard Errors assume that the covariance matrix of the errors is correctly specified.\n"
     ]
    }
   ],
   "source": [
    "model_both = sm.OLS(df_trees['Volume'], sm.add_constant(df_trees[['Girth', 'Height']])).fit()\n",
    "print(model_both.summary())"
   ]
  },
  {
   "cell_type": "markdown",
   "id": "f98c3411",
   "metadata": {},
   "source": [
    "### Model Recomendation"
   ]
  },
  {
   "cell_type": "markdown",
   "id": "c4998bfe",
   "metadata": {},
   "source": [
    "##### Summary results\n",
    "\n",
    "- **Model 1: Volume ~ Girth:** This model resulted in a high R-square, indicating that the Girth alone explains 93.5% of the variation in timber volume. Considering a confidence interval of 95% and a significance level 𝛼 = 0.05, the p-value less than 𝛼 suggests that Girth is a statistically significant predictor of timber volume.\n",
    "\n",
    "- **Model 2: Volume ~ Height:** This model resulted in the worst R-square, indicating that only 35.8% of the variation in timber volume is explained by the Height. However, with a confidence interval of 95%, the p-value was less than 𝛼, suggesting that Height is a statistically significant predictor.\n",
    "\n",
    "- **Model 3: Volume ~ Girth + Height:** This model presented the highest R-square, indicating that the combination of Girth and Height explains 94.8% of the variation in timber volume. In addition, considering a confidence interval of 95% and a significance level 𝛼 = 0.05, the p-value less than 𝛼 suggests that Girth and Height are statistically significant predictors of timber volume.\n",
    "\n",
    "##### Conclusion\n",
    "\n",
    "Based on these results, models 1 and 3 performed very well in predicting the timber volume, with only a 1.3% difference between them; thus, both can be used confidently. However, considering that I have to recommend only one, I would choose the third model because the AIC (Akaike Information Criterion) and BIC (Bayesian Information Criterion) resulted in lower values than the first model. These metrics penalize models with more variables; lower values indicate a better-fitting model. Therefore, despite a slight difference, I would recommend model 3.    "
   ]
  },
  {
   "cell_type": "markdown",
   "id": "89cb6426",
   "metadata": {},
   "source": [
    "# Reference"
   ]
  },
  {
   "cell_type": "markdown",
   "id": "fecc206a",
   "metadata": {},
   "source": [
    "Astanin, S. (2022). tabulate: Pretty-print tabular data. [online] PyPI. Available at: https://pypi.org/project/tabulate/. [Accessed 18 Dec. 2023].\n",
    "\n",
    "Devore, J.L. (2012). Probability and Statistics for Engineering and the Sciences. 8th ed. Boston, MA: Brooks/Cole Pub Co.\n",
    "\n",
    "docs.scipy.org. (n.d.). SciPy documentation — SciPy v1.8.1 Manual. [online] Available at: https://docs.scipy.org/doc/scipy/index.html. [Accessed 18 Dec. 2023].\n",
    "\n",
    "docs.scipy.org. (n.d.). scipy.stats.kruskal — SciPy v1.7.1 Manual. [online] Available at: https://docs.scipy.org/doc/scipy/reference/generated/scipy.stats.kruskal.html. [Accessed 18 Dec. 2023].\n",
    "\n",
    "Hunter, J.D. (2007). Matplotlib: A 2D Graphics Environment. Computing in Science & Engineering, [online] 9(3), pp.90–95. doi:https://doi.org/10.1109/mcse.2007.55. [Accessed 18 Dec. 2023]\n",
    "\n",
    "Numpy (2009). NumPy. [online] Numpy.org. Available at: https://numpy.org/. [Accessed 18 Dec. 2023].\n",
    "\n",
    "pandas.pydata.org. (n.d.). User Guide — pandas 1.0.4 documentation. [online] Available at: https://pandas.pydata.org/docs/user_guide/index.html#user-guide. [Accessed 18 Dec. 2023].\n",
    "\n",
    "PyPI. (2020). statsmodels. [online] Available at: https://pypi.org/project/statsmodels/. [Accessed 18 Dec. 2023].\n",
    "\n",
    "Python.org. (2019). statistics — Mathematical statistics functions — Python 3.7.2 documentation. [online] Available at: https://docs.python.org/3/library/statistics.html. [Accessed 18 Dec. 2023]\n",
    "\n",
    "Terpilowski, M. (2019). scikit-posthocs: Pairwise multiple comparison tests in Python. Journal of Open Source Software, 4(36), p.1169. doi:https://doi.org/10.21105/joss.01169.\n",
    "\n",
    "Waskom, M. (2021). seaborn: statistical data visualization. Journal of Open Source Software, [online] 6(60), p.3021. doi:https://doi.org/10.21105/joss.03021. [Accessed 18 Dec. 2023]."
   ]
  }
 ],
 "metadata": {
  "kernelspec": {
   "display_name": "Python 3 (ipykernel)",
   "language": "python",
   "name": "python3"
  },
  "language_info": {
   "codemirror_mode": {
    "name": "ipython",
    "version": 3
   },
   "file_extension": ".py",
   "mimetype": "text/x-python",
   "name": "python",
   "nbconvert_exporter": "python",
   "pygments_lexer": "ipython3",
   "version": "3.11.4"
  }
 },
 "nbformat": 4,
 "nbformat_minor": 5
}
